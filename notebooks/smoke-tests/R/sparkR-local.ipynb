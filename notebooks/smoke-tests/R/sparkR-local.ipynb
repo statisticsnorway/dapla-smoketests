{
 "cells": [
  {
   "cell_type": "code",
   "execution_count": 1,
   "id": "b07a8358-4824-4630-8afa-0593290384e9",
   "metadata": {},
   "outputs": [
    {
     "data": {
      "text/html": [
       "'/usr/local/spark'"
      ],
      "text/latex": [
       "'/usr/local/spark'"
      ],
      "text/markdown": [
       "'/usr/local/spark'"
      ],
      "text/plain": [
       "[1] \"/usr/local/spark\""
      ]
     },
     "metadata": {},
     "output_type": "display_data"
    }
   ],
   "source": [
    "Sys.getenv(\"SPARK_HOME\")"
   ]
  },
  {
   "cell_type": "code",
   "execution_count": 2,
   "id": "ab2cce44-c059-447c-a88b-0e0fb2e66d6d",
   "metadata": {},
   "outputs": [
    {
     "data": {
      "text/plain": [
       "Java ref type org.apache.spark.sql.SparkSession id 1 "
      ]
     },
     "metadata": {},
     "output_type": "display_data"
    }
   ],
   "source": [
    "spark"
   ]
  },
  {
   "cell_type": "code",
   "execution_count": 3,
   "id": "0296cecb-f589-428a-9ffd-32e58638f495",
   "metadata": {},
   "outputs": [],
   "source": [
    "if (Sys.getenv(\"CLUSTER_ID\") == \"staging-bip-app\") {\n",
    "    bucket <- \"gs://ssb-staging-dapla-felles-data-delt/felles/veiledning/python/eksempler/purchases\"\n",
    "} else {\n",
    "    bucket <- \"gs://ssb-prod-dapla-felles-data-delt/felles/veiledning/python/eksempler/purchases\"\n",
    "}"
   ]
  },
  {
   "cell_type": "markdown",
   "id": "72a644e8-a017-4d24-b135-4d6bf187867c",
   "metadata": {},
   "source": [
    "### Laster inn data"
   ]
  },
  {
   "cell_type": "code",
   "execution_count": 4,
   "id": "e29493e3-39ac-4692-a3f3-782a71ae3ac1",
   "metadata": {},
   "outputs": [
    {
     "data": {
      "text/html": [
       "4"
      ],
      "text/latex": [
       "4"
      ],
      "text/markdown": [
       "4"
      ],
      "text/plain": [
       "[1] 4"
      ]
     },
     "metadata": {},
     "output_type": "display_data"
    }
   ],
   "source": [
    "parquet_data <- read.parquet(bucket)\n",
    "count(parquet_data)"
   ]
  },
  {
   "cell_type": "code",
   "execution_count": null,
   "id": "94c86ad9-51ae-410a-83b0-29933faf4fd7",
   "metadata": {},
   "outputs": [],
   "source": []
  }
 ],
 "metadata": {
  "kernelspec": {
   "display_name": "SparkR (local)",
   "language": "R",
   "name": "ir"
  },
  "language_info": {
   "codemirror_mode": "r",
   "file_extension": ".r",
   "mimetype": "text/x-r-source",
   "name": "R",
   "pygments_lexer": "r",
   "version": "4.2.2"
  }
 },
 "nbformat": 4,
 "nbformat_minor": 5
}
