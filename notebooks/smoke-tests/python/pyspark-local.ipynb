{
 "cells": [
  {
   "cell_type": "code",
   "execution_count": 1,
   "id": "3529f3c5-9fc2-4a4e-9eb0-35323d8087aa",
   "metadata": {},
   "outputs": [],
   "source": [
    "import os\n",
    "import pyspark.pandas as ps\n",
    "\n",
    "if os.environ['CLUSTER_ID'] == \"staging-bip-app\":\n",
    "    bucket = 'ssb-staging-demo-stat-a-data-produkt'\n",
    "else:\n",
    "    bucket = 'ssb-prod-demo-stat-a-data-produkt'\n",
    "\n",
    "gcs_path = f\"gs://{bucket}/felles/smoke-tests/fruits\""
   ]
  },
  {
   "cell_type": "code",
   "execution_count": 2,
   "id": "db97a82a-e33e-4401-a174-e1013da5c2e7",
   "metadata": {},
   "outputs": [],
   "source": [
    "# Check spark environment\n",
    "assert spark is not None\n",
    "assert '/proxy' in sc.uiWebUrl, f\"spark web UI not using proxy´: {sc.uiWebUrl}\""
   ]
  },
  {
   "cell_type": "code",
   "execution_count": 3,
   "id": "8765d32a-52ba-4aeb-8667-a90c03cd357d",
   "metadata": {},
   "outputs": [
    {
     "name": "stdout",
     "output_type": "stream",
     "text": [
      "+------+-------+-----------------+\n",
      "|apples|oranges|__index_level_0__|\n",
      "+------+-------+-----------------+\n",
      "|     3|      0|             June|\n",
      "|     2|      3|           Robert|\n",
      "|     0|      7|             Lily|\n",
      "|     1|      2|            David|\n",
      "+------+-------+-----------------+\n",
      "\n"
     ]
    }
   ],
   "source": [
    "spark.read.parquet(gcs_path).show()"
   ]
  },
  {
   "cell_type": "code",
   "execution_count": 4,
   "id": "ddc83531-cf58-455d-a0db-b24af71f30a4",
   "metadata": {},
   "outputs": [
    {
     "data": {
      "text/html": [
       "<div>\n",
       "<style scoped>\n",
       "    .dataframe tbody tr th:only-of-type {\n",
       "        vertical-align: middle;\n",
       "    }\n",
       "\n",
       "    .dataframe tbody tr th {\n",
       "        vertical-align: top;\n",
       "    }\n",
       "\n",
       "    .dataframe thead th {\n",
       "        text-align: right;\n",
       "    }\n",
       "</style>\n",
       "<table border=\"1\" class=\"dataframe\">\n",
       "  <thead>\n",
       "    <tr style=\"text-align: right;\">\n",
       "      <th></th>\n",
       "      <th>apples</th>\n",
       "      <th>oranges</th>\n",
       "    </tr>\n",
       "  </thead>\n",
       "  <tbody>\n",
       "    <tr>\n",
       "      <th>June</th>\n",
       "      <td>3</td>\n",
       "      <td>0</td>\n",
       "    </tr>\n",
       "    <tr>\n",
       "      <th>Robert</th>\n",
       "      <td>2</td>\n",
       "      <td>3</td>\n",
       "    </tr>\n",
       "    <tr>\n",
       "      <th>Lily</th>\n",
       "      <td>0</td>\n",
       "      <td>7</td>\n",
       "    </tr>\n",
       "    <tr>\n",
       "      <th>David</th>\n",
       "      <td>1</td>\n",
       "      <td>2</td>\n",
       "    </tr>\n",
       "  </tbody>\n",
       "</table>\n",
       "</div>"
      ],
      "text/plain": [
       "        apples  oranges\n",
       "June         3        0\n",
       "Robert       2        3\n",
       "Lily         0        7\n",
       "David        1        2"
      ]
     },
     "execution_count": 4,
     "metadata": {},
     "output_type": "execute_result"
    }
   ],
   "source": [
    "ps.read_parquet(gcs_path, pandas_metadata=True)"
   ]
  },
  {
   "cell_type": "code",
   "execution_count": null,
   "id": "14507907-fdf5-4077-a110-f1826fa63297",
   "metadata": {},
   "outputs": [],
   "source": []
  }
 ],
 "metadata": {
  "kernelspec": {
   "display_name": "Pyspark (local)",
   "language": "python",
   "name": "pyspark_local"
  },
  "language_info": {
   "codemirror_mode": {
    "name": "ipython",
    "version": 3
   },
   "file_extension": ".py",
   "mimetype": "text/x-python",
   "name": "python",
   "nbconvert_exporter": "python",
   "pygments_lexer": "ipython3",
   "version": "3.10.6"
  }
 },
 "nbformat": 4,
 "nbformat_minor": 5
}
