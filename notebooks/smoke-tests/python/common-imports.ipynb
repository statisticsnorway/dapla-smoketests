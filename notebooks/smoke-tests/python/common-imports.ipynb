{
 "cells": [
  {
   "cell_type": "code",
   "execution_count": 1,
   "id": "0389f8b0-ff8c-4f90-9231-01a24c8fdbb5",
   "metadata": {},
   "outputs": [],
   "source": [
    "# Central imports (pandas as pd etc.)\n",
    "import os\n",
    "import pandas as pd\n",
    "import dapla as dp"
   ]
  },
  {
   "cell_type": "markdown",
   "id": "53045c5c-da40-40f1-b6c3-b617a9f5e979",
   "metadata": {},
   "source": [
    "### Tester dapla pakken"
   ]
  },
  {
   "cell_type": "code",
   "execution_count": 2,
   "id": "653b7859-db6e-4d5f-ab11-5d5c031702c8",
   "metadata": {},
   "outputs": [],
   "source": [
    "response = dp.AuthClient.fetch_local_user()\n",
    "assert 'username' in response\n",
    "assert 'access_token' in response\n",
    "assert 'exchanged_tokens' in response\n",
    "assert 'google' in response['exchanged_tokens']"
   ]
  },
  {
   "cell_type": "markdown",
   "id": "9026c271-4634-4d3b-b44e-76d99d04220f",
   "metadata": {},
   "source": [
    "### Sjekker Jupyter extensions"
   ]
  },
  {
   "cell_type": "code",
   "execution_count": 1,
   "id": "84497e29-dbcc-4847-8874-5d909715a450",
   "metadata": {},
   "outputs": [
    {
     "name": "stdout",
     "output_type": "stream",
     "text": [
      "JupyterLab v3.5.0\n",
      "/opt/conda/share/jupyter/labextensions\n",
      "        jupyterlab_pygments v0.2.2 \u001b[32menabled\u001b[0m \u001b[32mOK\u001b[0m (python, jupyterlab_pygments)\n",
      "        jupyterlab-plotly v5.11.0 \u001b[32menabled\u001b[0m \u001b[32mOK\u001b[0m\n",
      "        ipysheet v0.6.0 \u001b[32menabled\u001b[0m \u001b[32mOK\u001b[0m (python, ipysheet)\n",
      "        jupyterlab-jupytext v1.3.8+dev \u001b[32menabled\u001b[0m \u001b[32mOK\u001b[0m (python, jupytext)\n",
      "        jupyterlab-system-monitor v0.8.0 \u001b[32menabled\u001b[0m \u001b[32mOK\u001b[0m (python, jupyterlab-system-monitor)\n",
      "        jupyter-leaflet v0.17.2 \u001b[32menabled\u001b[0m \u001b[32mOK\u001b[0m\n",
      "        jupyterlab-topbar-extension v0.6.1 \u001b[32menabled\u001b[0m \u001b[32mOK\u001b[0m (python, jupyterlab-topbar)\n",
      "        nbdime-jupyterlab v2.1.1 \u001b[32menabled\u001b[0m \u001b[32mOK\u001b[0m\n",
      "        jupyter-matplotlib v0.11.2 \u001b[32menabled\u001b[0m \u001b[32mOK\u001b[0m\n",
      "        @krassowski/jupyterlab-lsp v3.10.2 \u001b[32menabled\u001b[0m \u001b[32mOK\u001b[0m (python, jupyterlab-lsp)\n",
      "        @pyviz/jupyterlab_pyviz v2.2.1 \u001b[32menabled\u001b[0m \u001b[32mOK\u001b[0m (python, pyviz_comms)\n",
      "        @aquirdturtle/collapsible_headings v3.1.0 \u001b[32menabled\u001b[0m \u001b[31m X\u001b[0m (python, aquirdturtle_collapsible_headings)\n",
      "        @jupyter-server/resource-usage v0.6.3 \u001b[32menabled\u001b[0m \u001b[32mOK\u001b[0m (python, jupyter-resource-usage)\n",
      "        @voila-dashboards/jupyterlab-preview v2.2.0 \u001b[32menabled\u001b[0m \u001b[32mOK\u001b[0m (python, voila)\n",
      "        @jupyterlab/git v0.39.3 \u001b[32menabled\u001b[0m \u001b[32mOK\u001b[0m (python, jupyterlab-git)\n",
      "        @jupyterlab/server-proxy v3.2.2 \u001b[32menabled\u001b[0m \u001b[32mOK\u001b[0m\n",
      "        @jupyter-widgets/jupyterlab-manager v5.0.3 \u001b[32menabled\u001b[0m \u001b[32mOK\u001b[0m (python, jupyterlab_widgets)\n",
      "\n",
      "\n",
      "   The following extension are outdated:\n",
      "        @aquirdturtle/collapsible_headings\n",
      "        \n",
      "   Consider running \"jupyter labextension update --all\" to check for updates.\n",
      "\n",
      "Other labextensions (built into JupyterLab)\n",
      "   app dir: /opt/conda/share/jupyter/lab\n",
      "        jupyterlab-dash v0.4.2 \u001b[32menabled\u001b[0m \u001b[32mOK\u001b[0m\n",
      "\n",
      "\n",
      "Disabled extensions:\n",
      "    @jupyterlab/docmanager-extension:download\n",
      "    @jupyterlab/extensionmanager-extension (all plugins)\n",
      "    @jupyterlab/filebrowser-extension:download\n"
     ]
    }
   ],
   "source": [
    "# NBVAL_IGNORE_OUTPUT\n",
    "!jupyter labextension list"
   ]
  },
  {
   "cell_type": "code",
   "execution_count": null,
   "id": "f8816271-db1d-4554-9dc3-6157bc8ae2a6",
   "metadata": {},
   "outputs": [],
   "source": []
  }
 ],
 "metadata": {
  "kernelspec": {
   "display_name": "dapla-smoketests",
   "language": "python",
   "name": "dapla-smoketests"
  },
  "language_info": {
   "codemirror_mode": {
    "name": "ipython",
    "version": 3
   },
   "file_extension": ".py",
   "mimetype": "text/x-python",
   "name": "python",
   "nbconvert_exporter": "python",
   "pygments_lexer": "ipython3",
   "version": "3.10.6"
  }
 },
 "nbformat": 4,
 "nbformat_minor": 5
}
