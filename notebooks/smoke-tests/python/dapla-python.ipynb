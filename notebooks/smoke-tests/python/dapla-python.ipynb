{
 "cells": [
  {
   "cell_type": "code",
   "execution_count": 2,
   "id": "b884298a-be03-45cc-ab4a-d62d87b8692f",
   "metadata": {},
   "outputs": [],
   "source": [
    "import os\n",
    "import dapla as dp\n",
    "import pandas as pd\n",
    "\n",
    "if os.environ['CLUSTER_ID'] == \"staging-bip-app\":\n",
    "    bucket = 'ssb-staging-dapla-felles-data-delt'\n",
    "else:\n",
    "    bucket = 'ssb-prod-dapla-felles-data-delt'\n",
    "    \n",
    "gcs_path = f\"gs://{bucket}/felles/veiledning/python/eksempler/purchases\""
   ]
  },
  {
   "cell_type": "code",
   "execution_count": null,
   "id": "ac081457-d9a1-432a-89c4-a26bf7549363",
   "metadata": {},
   "outputs": [],
   "source": [
    "# Create pandas dataframe\n",
    "data = {\n",
    "    'apples': [3, 2, 0, 1],\n",
    "    'oranges': [0, 3, 7, 2]\n",
    "}\n",
    "purchases = pd.DataFrame(data, index=['June', 'Robert', 'Lily', 'David'])\n",
    "\n",
    "# Write pandas dataframe to GCS bucket\n",
    "dp.write_pandas(purchases, f\"{gcs_path}/data.parquet\")"
   ]
  },
  {
   "cell_type": "code",
   "execution_count": 2,
   "id": "725b1e37-c700-4f03-aa57-73aa60d1ec87",
   "metadata": {},
   "outputs": [
    {
     "data": {
      "text/html": [
       "<div>\n",
       "<style scoped>\n",
       "    .dataframe tbody tr th:only-of-type {\n",
       "        vertical-align: middle;\n",
       "    }\n",
       "\n",
       "    .dataframe tbody tr th {\n",
       "        vertical-align: top;\n",
       "    }\n",
       "\n",
       "    .dataframe thead th {\n",
       "        text-align: right;\n",
       "    }\n",
       "</style>\n",
       "<table border=\"1\" class=\"dataframe\">\n",
       "  <thead>\n",
       "    <tr style=\"text-align: right;\">\n",
       "      <th></th>\n",
       "      <th>apples</th>\n",
       "      <th>oranges</th>\n",
       "    </tr>\n",
       "  </thead>\n",
       "  <tbody>\n",
       "    <tr>\n",
       "      <th>June</th>\n",
       "      <td>3</td>\n",
       "      <td>0</td>\n",
       "    </tr>\n",
       "    <tr>\n",
       "      <th>Robert</th>\n",
       "      <td>2</td>\n",
       "      <td>3</td>\n",
       "    </tr>\n",
       "    <tr>\n",
       "      <th>Lily</th>\n",
       "      <td>0</td>\n",
       "      <td>7</td>\n",
       "    </tr>\n",
       "    <tr>\n",
       "      <th>David</th>\n",
       "      <td>1</td>\n",
       "      <td>2</td>\n",
       "    </tr>\n",
       "  </tbody>\n",
       "</table>\n",
       "</div>"
      ],
      "text/plain": [
       "        apples  oranges\n",
       "June         3        0\n",
       "Robert       2        3\n",
       "Lily         0        7\n",
       "David        1        2"
      ]
     },
     "execution_count": 2,
     "metadata": {},
     "output_type": "execute_result"
    }
   ],
   "source": [
    "# Read path into pandas dataframe\n",
    "dp.read_pandas(gcs_path)"
   ]
  },
  {
   "cell_type": "code",
   "execution_count": null,
   "id": "1c5a1460-3ba2-4248-8245-abbeec9fc805",
   "metadata": {},
   "outputs": [],
   "source": []
  }
 ],
 "metadata": {
  "kernelspec": {
   "display_name": "dapla-smoketests",
   "language": "python",
   "name": "dapla-smoketests"
  },
  "language_info": {
   "codemirror_mode": {
    "name": "ipython",
    "version": 3
   },
   "file_extension": ".py",
   "mimetype": "text/x-python",
   "name": "python",
   "nbconvert_exporter": "python",
   "pygments_lexer": "ipython3",
   "version": "3.10.6"
  }
 },
 "nbformat": 4,
 "nbformat_minor": 5
}
