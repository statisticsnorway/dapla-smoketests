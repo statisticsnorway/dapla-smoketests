{
 "cells": [
  {
   "cell_type": "code",
   "execution_count": 1,
   "id": "0296cecb-f589-428a-9ffd-32e58638f495",
   "metadata": {},
   "outputs": [],
   "source": [
    "if (Sys.getenv(\"CLUSTER_ID\") == \"staging-bip-app\") {\n",
    "    bucket <- \"ssb-staging-demo-stat-a-data-produkt/felles/smoke-tests/fruits\"\n",
    "} else {\n",
    "    bucket <- \"ssb-prod-demo-stat-a-data-produkt/felles/smoke-tests/fruits\"\n",
    "}"
   ]
  },
  {
   "cell_type": "markdown",
   "id": "2df20042-f2e0-45fe-9472-05da47c2969b",
   "metadata": {},
   "source": [
    "### Lager funksjoner for å lese inn data fra GCS med Arrow"
   ]
  },
  {
   "cell_type": "code",
   "execution_count": 2,
   "id": "ab2cce44-c059-447c-a88b-0e0fb2e66d6d",
   "metadata": {},
   "outputs": [],
   "source": [
    "fetch_local_user <- function() {\n",
    "    httr::GET(Sys.getenv(\"LOCAL_USER_PATH\"), \n",
    "        httr::add_headers(\"Authorization\" = paste0(\"token \",\n",
    "        Sys.getenv(\"JUPYTERHUB_API_TOKEN\"))))\n",
    "}\n",
    "\n",
    "\n",
    "gcs_bucket <- function(bucket) {\n",
    "    local_user <- httr::content(fetch_local_user())\n",
    "    access_token <- local_user$exchanged_tokens$google$access_token\n",
    "    expiration <- local_user$exchanged_tokens$google$exp\n",
    "    bucket <- arrow::gs_bucket(bucket, access_token  = access_token, \n",
    "        expiration = expiration)\n",
    "}\n",
    "\n",
    "read_parquet <- function(bucket, file, ...) {\n",
    "    df <- arrow::read_parquet(gcs_bucket(bucket)$path(file), ...)\n",
    "}"
   ]
  },
  {
   "cell_type": "markdown",
   "id": "72a644e8-a017-4d24-b135-4d6bf187867c",
   "metadata": {},
   "source": [
    "### Laster inn data"
   ]
  },
  {
   "cell_type": "code",
   "execution_count": 3,
   "id": "e29493e3-39ac-4692-a3f3-782a71ae3ac1",
   "metadata": {},
   "outputs": [
    {
     "data": {
      "text/html": [
       "<table class=\"dataframe\">\n",
       "<caption>A tibble: 4 × 3</caption>\n",
       "<thead>\n",
       "\t<tr><th></th><th scope=col>apples</th><th scope=col>oranges</th><th scope=col>__index_level_0__</th></tr>\n",
       "\t<tr><th></th><th scope=col>&lt;int&gt;</th><th scope=col>&lt;int&gt;</th><th scope=col>&lt;chr&gt;</th></tr>\n",
       "</thead>\n",
       "<tbody>\n",
       "\t<tr><th scope=row>1</th><td>3</td><td>0</td><td>June  </td></tr>\n",
       "\t<tr><th scope=row>2</th><td>2</td><td>3</td><td>Robert</td></tr>\n",
       "\t<tr><th scope=row>3</th><td>0</td><td>7</td><td>Lily  </td></tr>\n",
       "\t<tr><th scope=row>4</th><td>1</td><td>2</td><td>David </td></tr>\n",
       "</tbody>\n",
       "</table>\n"
      ],
      "text/latex": [
       "A tibble: 4 × 3\n",
       "\\begin{tabular}{r|lll}\n",
       "  & apples & oranges & \\_\\_index\\_level\\_0\\_\\_\\\\\n",
       "  & <int> & <int> & <chr>\\\\\n",
       "\\hline\n",
       "\t1 & 3 & 0 & June  \\\\\n",
       "\t2 & 2 & 3 & Robert\\\\\n",
       "\t3 & 0 & 7 & Lily  \\\\\n",
       "\t4 & 1 & 2 & David \\\\\n",
       "\\end{tabular}\n"
      ],
      "text/markdown": [
       "\n",
       "A tibble: 4 × 3\n",
       "\n",
       "| <!--/--> | apples &lt;int&gt; | oranges &lt;int&gt; | __index_level_0__ &lt;chr&gt; |\n",
       "|---|---|---|---|\n",
       "| 1 | 3 | 0 | June   |\n",
       "| 2 | 2 | 3 | Robert |\n",
       "| 3 | 0 | 7 | Lily   |\n",
       "| 4 | 1 | 2 | David  |\n",
       "\n"
      ],
      "text/plain": [
       "  apples oranges __index_level_0__\n",
       "1 3      0       June             \n",
       "2 2      3       Robert           \n",
       "3 0      7       Lily             \n",
       "4 1      2       David            "
      ]
     },
     "metadata": {},
     "output_type": "display_data"
    }
   ],
   "source": [
    "parquet_data <- read_parquet(bucket = bucket, file = \"data.parquet\")\n",
    "head(parquet_data)"
   ]
  },
  {
   "cell_type": "code",
   "execution_count": null,
   "id": "94c86ad9-51ae-410a-83b0-29933faf4fd7",
   "metadata": {},
   "outputs": [],
   "source": []
  }
 ],
 "metadata": {
  "kernelspec": {
   "display_name": "SparkR (local)",
   "language": "R",
   "name": "ir"
  },
  "language_info": {
   "codemirror_mode": "r",
   "file_extension": ".r",
   "mimetype": "text/x-r-source",
   "name": "R",
   "pygments_lexer": "r",
   "version": "4.2.2"
  }
 },
 "nbformat": 4,
 "nbformat_minor": 5
}
