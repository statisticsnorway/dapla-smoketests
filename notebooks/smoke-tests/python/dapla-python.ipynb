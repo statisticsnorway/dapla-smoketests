{
 "cells": [
  {
   "cell_type": "code",
   "execution_count": 1,
   "id": "b884298a-be03-45cc-ab4a-d62d87b8692f",
   "metadata": {},
   "outputs": [],
   "source": [
    "import dapla as dp\n",
    "import pandas as pd\n",
    "\n",
    "gcs_path = 'gs://ssb-staging-dapla-felles-data-delt/felles/veiledning/python/eksempler/purchases'"
   ]
  },
  {
   "cell_type": "code",
   "execution_count": 2,
   "id": "ac081457-d9a1-432a-89c4-a26bf7549363",
   "metadata": {},
   "outputs": [],
   "source": [
    "# Create pandas dataframe\n",
    "data = {\n",
    "    'apples': [3, 2, 0, 1], \n",
    "    'oranges': [0, 3, 7, 2]\n",
    "}\n",
    "purchases = pd.DataFrame(data, index=['June', 'Robert', 'Lily', 'David'])\n",
    "\n",
    "# Write pandas dataframe to GCS bucket\n",
    "dp.write_pandas(purchases, f\"{gcs_path}/data.parquet\")"
   ]
  },
  {
   "cell_type": "code",
   "execution_count": 3,
   "id": "725b1e37-c700-4f03-aa57-73aa60d1ec87",
   "metadata": {},
   "outputs": [
    {
     "ename": "ImportError",
     "evalue": "cannot import name 'EXCLUDED_PARQUET_PATHS' from 'pyarrow.parquet' (/home/jovyan/dapla-smoketests/.venv/lib/python3.10/site-packages/pyarrow/parquet/__init__.py)",
     "output_type": "error",
     "traceback": [
      "\u001b[0;31m---------------------------------------------------------------------------\u001b[0m",
      "\u001b[0;31mImportError\u001b[0m                               Traceback (most recent call last)",
      "Cell \u001b[0;32mIn [3], line 2\u001b[0m\n\u001b[1;32m      1\u001b[0m \u001b[38;5;66;03m# Read path into pandas dataframe \u001b[39;00m\n\u001b[0;32m----> 2\u001b[0m \u001b[43mdp\u001b[49m\u001b[38;5;241;43m.\u001b[39;49m\u001b[43mread_pandas\u001b[49m\u001b[43m(\u001b[49m\u001b[43mgcs_path\u001b[49m\u001b[43m)\u001b[49m\n",
      "File \u001b[0;32m~/dapla-smoketests/.venv/lib/python3.10/site-packages/dapla/pandas.py:20\u001b[0m, in \u001b[0;36mread_pandas\u001b[0;34m(gcs_path, file_format, columns, **kwargs)\u001b[0m\n\u001b[1;32m     18\u001b[0m     \u001b[38;5;28;01mimport\u001b[39;00m \u001b[38;5;21;01mpyarrow\u001b[39;00m\u001b[38;5;21;01m.\u001b[39;00m\u001b[38;5;21;01mparquet\u001b[39;00m \u001b[38;5;28;01mas\u001b[39;00m \u001b[38;5;21;01mpq\u001b[39;00m\n\u001b[1;32m     19\u001b[0m     fs \u001b[38;5;241m=\u001b[39m FileClient\u001b[38;5;241m.\u001b[39mget_gcs_file_system()\n\u001b[0;32m---> 20\u001b[0m     parquet_ds \u001b[38;5;241m=\u001b[39m \u001b[43mpq\u001b[49m\u001b[38;5;241;43m.\u001b[39;49m\u001b[43mParquetDataset\u001b[49m\u001b[43m(\u001b[49m\u001b[43mgcs_path\u001b[49m\u001b[43m,\u001b[49m\u001b[43m \u001b[49m\u001b[43mfilesystem\u001b[49m\u001b[38;5;241;43m=\u001b[39;49m\u001b[43mfs\u001b[49m\u001b[43m)\u001b[49m\n\u001b[1;32m     21\u001b[0m     \u001b[38;5;28;01mreturn\u001b[39;00m parquet_ds\u001b[38;5;241m.\u001b[39mread_pandas(columns\u001b[38;5;241m=\u001b[39mcolumns)\u001b[38;5;241m.\u001b[39mto_pandas(split_blocks\u001b[38;5;241m=\u001b[39m\u001b[38;5;28;01mFalse\u001b[39;00m, self_destruct\u001b[38;5;241m=\u001b[39m\u001b[38;5;28;01mTrue\u001b[39;00m, \u001b[38;5;241m*\u001b[39m\u001b[38;5;241m*\u001b[39mkwargs)\n\u001b[1;32m     22\u001b[0m \u001b[38;5;28;01melif\u001b[39;00m file_format \u001b[38;5;241m==\u001b[39m \u001b[38;5;124m\"\u001b[39m\u001b[38;5;124mjson\u001b[39m\u001b[38;5;124m\"\u001b[39m:\n",
      "File \u001b[0;32m~/dapla-smoketests/.venv/lib/python3.10/site-packages/pyarrow/parquet/core.py:1784\u001b[0m, in \u001b[0;36mParquetDataset.__init__\u001b[0;34m(self, path_or_paths, filesystem, schema, metadata, split_row_groups, validate_schema, filters, metadata_nthreads, read_dictionary, memory_map, buffer_size, partitioning, use_legacy_dataset, pre_buffer, coerce_int96_timestamp_unit, thrift_string_size_limit, thrift_container_size_limit)\u001b[0m\n\u001b[1;32m   1778\u001b[0m \u001b[38;5;28mself\u001b[39m\u001b[38;5;241m.\u001b[39m_ds_metadata\u001b[38;5;241m.\u001b[39mmemory_map \u001b[38;5;241m=\u001b[39m memory_map\n\u001b[1;32m   1779\u001b[0m \u001b[38;5;28mself\u001b[39m\u001b[38;5;241m.\u001b[39m_ds_metadata\u001b[38;5;241m.\u001b[39mbuffer_size \u001b[38;5;241m=\u001b[39m buffer_size\n\u001b[1;32m   1781\u001b[0m (\u001b[38;5;28mself\u001b[39m\u001b[38;5;241m.\u001b[39m_pieces,\n\u001b[1;32m   1782\u001b[0m  \u001b[38;5;28mself\u001b[39m\u001b[38;5;241m.\u001b[39m_partitions,\n\u001b[1;32m   1783\u001b[0m  \u001b[38;5;28mself\u001b[39m\u001b[38;5;241m.\u001b[39m_common_metadata_path,\n\u001b[0;32m-> 1784\u001b[0m  \u001b[38;5;28mself\u001b[39m\u001b[38;5;241m.\u001b[39m_metadata_path) \u001b[38;5;241m=\u001b[39m \u001b[43m_make_manifest\u001b[49m\u001b[43m(\u001b[49m\n\u001b[1;32m   1785\u001b[0m \u001b[43m     \u001b[49m\u001b[43mpath_or_paths\u001b[49m\u001b[43m,\u001b[49m\u001b[43m \u001b[49m\u001b[38;5;28;43mself\u001b[39;49m\u001b[38;5;241;43m.\u001b[39;49m\u001b[43m_fs\u001b[49m\u001b[43m,\u001b[49m\u001b[43m \u001b[49m\u001b[43mmetadata_nthreads\u001b[49m\u001b[38;5;241;43m=\u001b[39;49m\u001b[43mmetadata_nthreads\u001b[49m\u001b[43m,\u001b[49m\n\u001b[1;32m   1786\u001b[0m \u001b[43m     \u001b[49m\u001b[43mopen_file_func\u001b[49m\u001b[38;5;241;43m=\u001b[39;49m\u001b[43mpartial\u001b[49m\u001b[43m(\u001b[49m\u001b[43m_open_dataset_file\u001b[49m\u001b[43m,\u001b[49m\u001b[43m \u001b[49m\u001b[38;5;28;43mself\u001b[39;49m\u001b[38;5;241;43m.\u001b[39;49m\u001b[43m_ds_metadata\u001b[49m\u001b[43m)\u001b[49m\n\u001b[1;32m   1787\u001b[0m \u001b[43m\u001b[49m\u001b[43m)\u001b[49m\n\u001b[1;32m   1789\u001b[0m \u001b[38;5;28;01mif\u001b[39;00m \u001b[38;5;28mself\u001b[39m\u001b[38;5;241m.\u001b[39m_common_metadata_path \u001b[38;5;129;01mis\u001b[39;00m \u001b[38;5;129;01mnot\u001b[39;00m \u001b[38;5;28;01mNone\u001b[39;00m:\n\u001b[1;32m   1790\u001b[0m     \u001b[38;5;28;01mwith\u001b[39;00m \u001b[38;5;28mself\u001b[39m\u001b[38;5;241m.\u001b[39m_fs\u001b[38;5;241m.\u001b[39mopen(\u001b[38;5;28mself\u001b[39m\u001b[38;5;241m.\u001b[39m_common_metadata_path) \u001b[38;5;28;01mas\u001b[39;00m f:\n",
      "File \u001b[0;32m~/dapla-smoketests/.venv/lib/python3.10/site-packages/pyarrow/parquet/core.py:2252\u001b[0m, in \u001b[0;36m_make_manifest\u001b[0;34m(path_or_paths, fs, pathsep, metadata_nthreads, open_file_func)\u001b[0m\n\u001b[1;32m   2249\u001b[0m     path_or_paths \u001b[38;5;241m=\u001b[39m path_or_paths[\u001b[38;5;241m0\u001b[39m]\n\u001b[1;32m   2251\u001b[0m \u001b[38;5;28;01mif\u001b[39;00m _is_path_like(path_or_paths) \u001b[38;5;129;01mand\u001b[39;00m fs\u001b[38;5;241m.\u001b[39misdir(path_or_paths):\n\u001b[0;32m-> 2252\u001b[0m     manifest \u001b[38;5;241m=\u001b[39m \u001b[43mParquetManifest\u001b[49m\u001b[43m(\u001b[49m\u001b[43mpath_or_paths\u001b[49m\u001b[43m,\u001b[49m\u001b[43m \u001b[49m\u001b[43mfilesystem\u001b[49m\u001b[38;5;241;43m=\u001b[39;49m\u001b[43mfs\u001b[49m\u001b[43m,\u001b[49m\n\u001b[1;32m   2253\u001b[0m \u001b[43m                               \u001b[49m\u001b[43mopen_file_func\u001b[49m\u001b[38;5;241;43m=\u001b[39;49m\u001b[43mopen_file_func\u001b[49m\u001b[43m,\u001b[49m\n\u001b[1;32m   2254\u001b[0m \u001b[43m                               \u001b[49m\u001b[43mpathsep\u001b[49m\u001b[38;5;241;43m=\u001b[39;49m\u001b[38;5;28;43mgetattr\u001b[39;49m\u001b[43m(\u001b[49m\u001b[43mfs\u001b[49m\u001b[43m,\u001b[49m\u001b[43m \u001b[49m\u001b[38;5;124;43m\"\u001b[39;49m\u001b[38;5;124;43mpathsep\u001b[39;49m\u001b[38;5;124;43m\"\u001b[39;49m\u001b[43m,\u001b[49m\u001b[43m \u001b[49m\u001b[38;5;124;43m\"\u001b[39;49m\u001b[38;5;124;43m/\u001b[39;49m\u001b[38;5;124;43m\"\u001b[39;49m\u001b[43m)\u001b[49m\u001b[43m,\u001b[49m\n\u001b[1;32m   2255\u001b[0m \u001b[43m                               \u001b[49m\u001b[43mmetadata_nthreads\u001b[49m\u001b[38;5;241;43m=\u001b[39;49m\u001b[43mmetadata_nthreads\u001b[49m\u001b[43m)\u001b[49m\n\u001b[1;32m   2256\u001b[0m     common_metadata_path \u001b[38;5;241m=\u001b[39m manifest\u001b[38;5;241m.\u001b[39mcommon_metadata_path\n\u001b[1;32m   2257\u001b[0m     metadata_path \u001b[38;5;241m=\u001b[39m manifest\u001b[38;5;241m.\u001b[39mmetadata_path\n",
      "File \u001b[0;32m~/dapla-smoketests/.venv/lib/python3.10/site-packages/pyarrow/parquet/core.py:1442\u001b[0m, in \u001b[0;36mParquetManifest.__init__\u001b[0;34m(self, dirpath, open_file_func, filesystem, pathsep, partition_scheme, metadata_nthreads)\u001b[0m\n\u001b[1;32m   1439\u001b[0m \u001b[38;5;28mself\u001b[39m\u001b[38;5;241m.\u001b[39mcommon_metadata_path \u001b[38;5;241m=\u001b[39m \u001b[38;5;28;01mNone\u001b[39;00m\n\u001b[1;32m   1440\u001b[0m \u001b[38;5;28mself\u001b[39m\u001b[38;5;241m.\u001b[39mmetadata_path \u001b[38;5;241m=\u001b[39m \u001b[38;5;28;01mNone\u001b[39;00m\n\u001b[0;32m-> 1442\u001b[0m \u001b[38;5;28;43mself\u001b[39;49m\u001b[38;5;241;43m.\u001b[39;49m\u001b[43m_visit_level\u001b[49m\u001b[43m(\u001b[49m\u001b[38;5;241;43m0\u001b[39;49m\u001b[43m,\u001b[49m\u001b[43m \u001b[49m\u001b[38;5;28;43mself\u001b[39;49m\u001b[38;5;241;43m.\u001b[39;49m\u001b[43mdirpath\u001b[49m\u001b[43m,\u001b[49m\u001b[43m \u001b[49m\u001b[43m[\u001b[49m\u001b[43m]\u001b[49m\u001b[43m)\u001b[49m\n\u001b[1;32m   1444\u001b[0m \u001b[38;5;66;03m# Due to concurrency, pieces will potentially by out of order if the\u001b[39;00m\n\u001b[1;32m   1445\u001b[0m \u001b[38;5;66;03m# dataset is partitioned so we sort them to yield stable results\u001b[39;00m\n\u001b[1;32m   1446\u001b[0m \u001b[38;5;28mself\u001b[39m\u001b[38;5;241m.\u001b[39mpieces\u001b[38;5;241m.\u001b[39msort(key\u001b[38;5;241m=\u001b[39m\u001b[38;5;28;01mlambda\u001b[39;00m piece: piece\u001b[38;5;241m.\u001b[39mpath)\n",
      "File \u001b[0;32m~/dapla-smoketests/.venv/lib/python3.10/site-packages/pyarrow/parquet/core.py:1466\u001b[0m, in \u001b[0;36mParquetManifest._visit_level\u001b[0;34m(self, level, base_path, part_keys)\u001b[0m\n\u001b[1;32m   1464\u001b[0m \u001b[38;5;28;01melif\u001b[39;00m path\u001b[38;5;241m.\u001b[39mendswith(\u001b[38;5;124m'\u001b[39m\u001b[38;5;124m_metadata\u001b[39m\u001b[38;5;124m'\u001b[39m):\n\u001b[1;32m   1465\u001b[0m     \u001b[38;5;28mself\u001b[39m\u001b[38;5;241m.\u001b[39mmetadata_path \u001b[38;5;241m=\u001b[39m full_path\n\u001b[0;32m-> 1466\u001b[0m \u001b[38;5;28;01melif\u001b[39;00m \u001b[38;5;28;43mself\u001b[39;49m\u001b[38;5;241;43m.\u001b[39;49m\u001b[43m_should_silently_exclude\u001b[49m\u001b[43m(\u001b[49m\u001b[43mpath\u001b[49m\u001b[43m)\u001b[49m:\n\u001b[1;32m   1467\u001b[0m     \u001b[38;5;28;01mcontinue\u001b[39;00m\n\u001b[1;32m   1468\u001b[0m \u001b[38;5;28;01melse\u001b[39;00m:\n",
      "File \u001b[0;32m~/dapla-smoketests/.venv/lib/python3.10/site-packages/dapla/gcs.py:28\u001b[0m, in \u001b[0;36mGCSFileSystem._should_silently_exclude\u001b[0;34m(self, file_name)\u001b[0m\n\u001b[1;32m     26\u001b[0m \u001b[38;5;129m@staticmethod\u001b[39m\n\u001b[1;32m     27\u001b[0m \u001b[38;5;28;01mdef\u001b[39;00m \u001b[38;5;21m_should_silently_exclude\u001b[39m(\u001b[38;5;28mself\u001b[39m, file_name):\n\u001b[0;32m---> 28\u001b[0m     \u001b[38;5;28;01mfrom\u001b[39;00m \u001b[38;5;21;01mpyarrow\u001b[39;00m\u001b[38;5;21;01m.\u001b[39;00m\u001b[38;5;21;01mparquet\u001b[39;00m \u001b[38;5;28;01mimport\u001b[39;00m EXCLUDED_PARQUET_PATHS\n\u001b[1;32m     30\u001b[0m     \u001b[38;5;28;01mreturn\u001b[39;00m (\n\u001b[1;32m     31\u001b[0m         file_name\u001b[38;5;241m.\u001b[39mendswith(\u001b[38;5;124m\"\u001b[39m\u001b[38;5;124m.crc\u001b[39m\u001b[38;5;124m\"\u001b[39m)\n\u001b[1;32m     32\u001b[0m         \u001b[38;5;129;01mor\u001b[39;00m file_name\u001b[38;5;241m.\u001b[39mendswith(\u001b[38;5;124m\"\u001b[39m\u001b[38;5;124m_$folder$\u001b[39m\u001b[38;5;124m\"\u001b[39m)  \u001b[38;5;66;03m# Checksums\u001b[39;00m\n\u001b[0;32m   (...)\u001b[0m\n\u001b[1;32m     36\u001b[0m         \u001b[38;5;129;01mor\u001b[39;00m file_name \u001b[38;5;129;01min\u001b[39;00m EXCLUDED_PARQUET_PATHS  \u001b[38;5;66;03m# Temp files\u001b[39;00m\n\u001b[1;32m     37\u001b[0m     )\n",
      "\u001b[0;31mImportError\u001b[0m: cannot import name 'EXCLUDED_PARQUET_PATHS' from 'pyarrow.parquet' (/home/jovyan/dapla-smoketests/.venv/lib/python3.10/site-packages/pyarrow/parquet/__init__.py)"
     ]
    }
   ],
   "source": [
    "# Read path into pandas dataframe \n",
    "dp.read_pandas(gcs_path)"
   ]
  },
  {
   "cell_type": "code",
   "execution_count": null,
   "id": "b17d6f35-e156-42c2-8780-2fbf4ab782f5",
   "metadata": {},
   "outputs": [],
   "source": []
  }
 ],
 "metadata": {
  "kernelspec": {
   "display_name": "dapla-smoketests",
   "language": "python",
   "name": "dapla-smoketests"
  },
  "language_info": {
   "codemirror_mode": {
    "name": "ipython",
    "version": 3
   },
   "file_extension": ".py",
   "mimetype": "text/x-python",
   "name": "python",
   "nbconvert_exporter": "python",
   "pygments_lexer": "ipython3",
   "version": "3.10.6"
  }
 },
 "nbformat": 4,
 "nbformat_minor": 5
}
