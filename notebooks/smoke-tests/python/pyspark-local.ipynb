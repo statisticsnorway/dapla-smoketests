{
 "cells": [
  {
   "cell_type": "code",
   "execution_count": 6,
   "id": "3529f3c5-9fc2-4a4e-9eb0-35323d8087aa",
   "metadata": {},
   "outputs": [],
   "source": [
    "import pyspark.pandas as ps\n",
    "\n",
    "gcs_path = 'gs://ssb-staging-dapla-felles-data-delt/felles/veiledning/python/eksempler/purchases'"
   ]
  },
  {
   "cell_type": "code",
   "execution_count": 5,
   "id": "0d649718-1c1c-4f2e-858d-6b7526996277",
   "metadata": {},
   "outputs": [
    {
     "name": "stdout",
     "output_type": "stream",
     "text": [
      "+------+-------+-----------------+\n",
      "|apples|oranges|__index_level_0__|\n",
      "+------+-------+-----------------+\n",
      "|     3|      0|             June|\n",
      "|     2|      3|           Robert|\n",
      "|     0|      7|             Lily|\n",
      "|     1|      2|            David|\n",
      "+------+-------+-----------------+\n",
      "\n"
     ]
    }
   ],
   "source": [
    "spark.read.parquet(gcs_path).show()"
   ]
  },
  {
   "cell_type": "code",
   "execution_count": 8,
   "id": "ddc83531-cf58-455d-a0db-b24af71f30a4",
   "metadata": {},
   "outputs": [],
   "source": [
    "#ps.read_parquet(gcs_path)"
   ]
  },
  {
   "cell_type": "code",
   "execution_count": null,
   "id": "14507907-fdf5-4077-a110-f1826fa63297",
   "metadata": {},
   "outputs": [],
   "source": []
  }
 ],
 "metadata": {
  "kernelspec": {
   "display_name": "Pyspark (local)",
   "language": "python",
   "name": "pyspark_local"
  },
  "language_info": {
   "codemirror_mode": {
    "name": "ipython",
    "version": 3
   },
   "file_extension": ".py",
   "mimetype": "text/x-python",
   "name": "python",
   "nbconvert_exporter": "python",
   "pygments_lexer": "ipython3",
   "version": "3.10.6"
  }
 },
 "nbformat": 4,
 "nbformat_minor": 5
}
