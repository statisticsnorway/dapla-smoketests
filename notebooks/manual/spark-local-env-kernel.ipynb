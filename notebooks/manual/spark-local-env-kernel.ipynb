{
 "cells": [
  {
   "cell_type": "code",
   "execution_count": null,
   "id": "e626726b-0c8d-4c4c-ae17-944d0a9390be",
   "metadata": {},
   "outputs": [],
   "source": [
    "import os\n",
    "import subprocess\n",
    "\n",
    "import pandas as pd\n",
    "from pyspark.sql.functions import pandas_udf\n",
    "python_path = subprocess.run(['poetry', 'run', 'which', 'python'],\n",
    "                             capture_output=True, text=True).stdout.rstrip('\\n')\n",
    "\n",
    "os.environ[\"PYSPARK_PYTHON\"] = python_path\n",
    "os.environ[\"PYSPARK_SUBMIT_ARGS\"] = os.environ[\"PYSPARK_LOCAL_SUBMIT_ARGS\"]"
   ]
  },
  {
   "cell_type": "code",
   "execution_count": null,
   "id": "c27d8b4b-ac16-40e0-8c47-caa72ec42c57",
   "metadata": {},
   "outputs": [],
   "source": [
    "%run /usr/local/share/jupyter/kernels/pyspark_local/init.py"
   ]
  },
  {
   "cell_type": "code",
   "execution_count": null,
   "id": "2ef07ba3-24f2-4bac-9da0-4b3a3eb9530c",
   "metadata": {},
   "outputs": [],
   "source": [
    "if os.environ['CLUSTER_ID'] == \"staging-bip-app\":\n",
    "    bucket = 'ssb-staging-demo-stat-a-data-produkt'\n",
    "else:\n",
    "    bucket = 'ssb-prod-demo-stat-a-data-produkt'\n",
    "\n",
    "gcs_path = f\"gs://{bucket}/felles/smoke-tests/fruits\""
   ]
  },
  {
   "cell_type": "code",
   "execution_count": null,
   "id": "4c6a878b-637f-4bd7-8898-55f4ec47da2d",
   "metadata": {},
   "outputs": [],
   "source": [
    "@pandas_udf(\"string\")\n",
    "def name(s: pd.Series) -> pd.Series:\n",
    "    # This import will fail outside of virtual env\n",
    "    import faker\n",
    "    return s.str.upper()\n",
    "\n",
    "df = spark.read.parquet(gcs_path)\n",
    "df.withColumn('name', name(\"__index_level_0__\")).show()"
   ]
  },
  {
   "cell_type": "code",
   "execution_count": null,
   "id": "6aabd3f9-a64d-4692-9421-38b47d7e5080",
   "metadata": {},
   "outputs": [],
   "source": []
  }
 ],
 "metadata": {
  "language_info": {
   "codemirror_mode": {
    "name": "ipython"
   },
   "file_extension": ".py",
   "mimetype": "text/x-python",
   "name": "python",
   "nbconvert_exporter": "python"
  }
 },
 "nbformat": 4,
 "nbformat_minor": 5
}
