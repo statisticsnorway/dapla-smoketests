{
 "cells": [
  {
   "cell_type": "markdown",
   "id": "27c58353",
   "metadata": {},
   "source": [
    "<a id=\"inst\"></a>\n",
    "## List of packages not installed"
   ]
  },
  {
   "cell_type": "code",
   "execution_count": 2,
   "id": "6eefe324",
   "metadata": {},
   "outputs": [
    {
     "name": "stdout",
     "output_type": "stream",
     "text": [
      "[1] \"There are 0 packages not installed. Packages that are not installed:\"\n"
     ]
    },
    {
     "data": {
      "text/html": [],
      "text/latex": [],
      "text/markdown": [],
      "text/plain": [
       "character(0)"
      ]
     },
     "metadata": {},
     "output_type": "display_data"
    }
   ],
   "source": [
    "ssb_list <- read.table(\"expected-packages.txt\")\n",
    "ssb_list <- as.character(ssb_list[,1])\n",
    "inst_pack <- installed.packages()\n",
    "\n",
    "notmissing <- ssb_list %in% inst_pack\n",
    "print(paste(\"There are\",length(ssb_list[!notmissing]) ,\"packages not installed. Packages that are not installed:\"))\n",
    "ssb_list[!notmissing]\n"
   ]
  },
  {
   "cell_type": "markdown",
   "id": "a94b193e-0cca-4074-9173-ad12cc665719",
   "metadata": {
    "tags": []
   },
   "source": [
    "<a id='package'></a>\n",
    "## Check internally developed packages"
   ]
  },
  {
   "cell_type": "code",
   "execution_count": 2,
   "id": "e5bad2b7-9033-4e17-9be6-7cdf34925092",
   "metadata": {},
   "outputs": [
    {
     "name": "stderr",
     "output_type": "stream",
     "text": [
      "Loading required package: Matrix\n",
      "\n",
      "Loading required package: SmallCountRounding\n",
      "\n",
      "Loading required package: SSBtools\n",
      "\n",
      "Loading required package: MASS\n",
      "\n",
      "\n",
      "Attaching package: ‘MASS’\n",
      "\n",
      "\n",
      "The following object is masked from ‘package:SparkR’:\n",
      "\n",
      "    select\n",
      "\n",
      "\n",
      "Loading required package: stringr\n",
      "\n",
      "\n",
      "Attaching package: ‘SdcForetakPerson’\n",
      "\n",
      "\n",
      "The following object is masked from ‘package:Kostra’:\n",
      "\n",
      "    CheckInput\n",
      "\n",
      "\n"
     ]
    }
   ],
   "source": [
    "library(RegSDC)\n",
    "library(Kostra)\n",
    "library(SdcForetakPerson)"
   ]
  },
  {
   "cell_type": "code",
   "execution_count": 3,
   "id": "cb281a96-8ae1-4763-9826-63288b8cf4ef",
   "metadata": {},
   "outputs": [
    {
     "data": {
      "text/html": [
       "<table class=\"dataframe\">\n",
       "<caption>A data.frame: 6 × 4</caption>\n",
       "<thead>\n",
       "\t<tr><th></th><th scope=col>code</th><th scope=col>parentCode</th><th scope=col>level</th><th scope=col>name</th></tr>\n",
       "\t<tr><th></th><th scope=col>&lt;chr&gt;</th><th scope=col>&lt;chr&gt;</th><th scope=col>&lt;chr&gt;</th><th scope=col>&lt;chr&gt;</th></tr>\n",
       "</thead>\n",
       "<tbody>\n",
       "\t<tr><th scope=row>1</th><td>0   </td><td>NA </td><td>1</td><td>Militære yrker og uoppgitt                 </td></tr>\n",
       "\t<tr><th scope=row>2</th><td>00  </td><td>0  </td><td>2</td><td>Uoppgitt / yrker som ikke kan identifiseres</td></tr>\n",
       "\t<tr><th scope=row>3</th><td>000 </td><td>00 </td><td>3</td><td>Uoppgitt / yrker som ikke kan identifiseres</td></tr>\n",
       "\t<tr><th scope=row>4</th><td>0000</td><td>000</td><td>4</td><td>Uoppgitt / yrker som ikke kan identifiseres</td></tr>\n",
       "\t<tr><th scope=row>5</th><td>01  </td><td>0  </td><td>2</td><td>Offiserer fra fenrik og høyere grad        </td></tr>\n",
       "\t<tr><th scope=row>6</th><td>011 </td><td>01 </td><td>3</td><td>Offiserer fra fenrik og høyere grad        </td></tr>\n",
       "</tbody>\n",
       "</table>\n"
      ],
      "text/latex": [
       "A data.frame: 6 × 4\n",
       "\\begin{tabular}{r|llll}\n",
       "  & code & parentCode & level & name\\\\\n",
       "  & <chr> & <chr> & <chr> & <chr>\\\\\n",
       "\\hline\n",
       "\t1 & 0    & NA  & 1 & Militære yrker og uoppgitt                 \\\\\n",
       "\t2 & 00   & 0   & 2 & Uoppgitt / yrker som ikke kan identifiseres\\\\\n",
       "\t3 & 000  & 00  & 3 & Uoppgitt / yrker som ikke kan identifiseres\\\\\n",
       "\t4 & 0000 & 000 & 4 & Uoppgitt / yrker som ikke kan identifiseres\\\\\n",
       "\t5 & 01   & 0   & 2 & Offiserer fra fenrik og høyere grad        \\\\\n",
       "\t6 & 011  & 01  & 3 & Offiserer fra fenrik og høyere grad        \\\\\n",
       "\\end{tabular}\n"
      ],
      "text/markdown": [
       "\n",
       "A data.frame: 6 × 4\n",
       "\n",
       "| <!--/--> | code &lt;chr&gt; | parentCode &lt;chr&gt; | level &lt;chr&gt; | name &lt;chr&gt; |\n",
       "|---|---|---|---|---|\n",
       "| 1 | 0    | NA  | 1 | Militære yrker og uoppgitt                  |\n",
       "| 2 | 00   | 0   | 2 | Uoppgitt / yrker som ikke kan identifiseres |\n",
       "| 3 | 000  | 00  | 3 | Uoppgitt / yrker som ikke kan identifiseres |\n",
       "| 4 | 0000 | 000 | 4 | Uoppgitt / yrker som ikke kan identifiseres |\n",
       "| 5 | 01   | 0   | 2 | Offiserer fra fenrik og høyere grad         |\n",
       "| 6 | 011  | 01  | 3 | Offiserer fra fenrik og høyere grad         |\n",
       "\n"
      ],
      "text/plain": [
       "  code parentCode level name                                       \n",
       "1 0    NA         1     Militære yrker og uoppgitt                 \n",
       "2 00   0          2     Uoppgitt / yrker som ikke kan identifiseres\n",
       "3 000  00         3     Uoppgitt / yrker som ikke kan identifiseres\n",
       "4 0000 000        4     Uoppgitt / yrker som ikke kan identifiseres\n",
       "5 01   0          2     Offiserer fra fenrik og høyere grad        \n",
       "6 011  01         3     Offiserer fra fenrik og høyere grad        "
      ]
     },
     "metadata": {},
     "output_type": "display_data"
    }
   ],
   "source": [
    "library(klassR)\n",
    "dt <- GetKlass(7)\n",
    "head(dt)"
   ]
  },
  {
   "cell_type": "code",
   "execution_count": 4,
   "id": "c4136888-9875-4044-974d-04c51f5899a9",
   "metadata": {},
   "outputs": [
    {
     "name": "stdout",
     "output_type": "stream",
     "text": [
      "GaussSuppression_anySum: ..........................................\n"
     ]
    },
    {
     "data": {
      "text/html": [
       "<table class=\"dataframe\">\n",
       "<caption>A data.frame: 6 × 8</caption>\n",
       "<thead>\n",
       "\t<tr><th></th><th scope=col>region</th><th scope=col>hovedint</th><th scope=col>ant</th><th scope=col>primary</th><th scope=col>suppressed</th><th scope=col>freqDec</th><th scope=col>isPublish</th><th scope=col>isInner</th></tr>\n",
       "\t<tr><th></th><th scope=col>&lt;chr&gt;</th><th scope=col>&lt;chr&gt;</th><th scope=col>&lt;dbl&gt;</th><th scope=col>&lt;lgl&gt;</th><th scope=col>&lt;lgl&gt;</th><th scope=col>&lt;dbl&gt;</th><th scope=col>&lt;lgl&gt;</th><th scope=col>&lt;lgl&gt;</th></tr>\n",
       "</thead>\n",
       "<tbody>\n",
       "\t<tr><th scope=row>1</th><td>Total</td><td>Total   </td><td>596</td><td>FALSE</td><td>FALSE</td><td>596</td><td>TRUE</td><td>FALSE</td></tr>\n",
       "\t<tr><th scope=row>2</th><td>Total</td><td>annet   </td><td> 72</td><td>FALSE</td><td>FALSE</td><td> 72</td><td>TRUE</td><td>FALSE</td></tr>\n",
       "\t<tr><th scope=row>3</th><td>Total</td><td>arbeid  </td><td> 52</td><td>FALSE</td><td>FALSE</td><td> 52</td><td>TRUE</td><td>FALSE</td></tr>\n",
       "\t<tr><th scope=row>4</th><td>Total</td><td>soshjelp</td><td>283</td><td>FALSE</td><td>FALSE</td><td>283</td><td>TRUE</td><td>FALSE</td></tr>\n",
       "\t<tr><th scope=row>5</th><td>Total</td><td>trygd   </td><td>189</td><td>FALSE</td><td>FALSE</td><td>189</td><td>TRUE</td><td>FALSE</td></tr>\n",
       "\t<tr><th scope=row>6</th><td>A    </td><td>Total   </td><td>113</td><td>FALSE</td><td>FALSE</td><td>113</td><td>TRUE</td><td>FALSE</td></tr>\n",
       "</tbody>\n",
       "</table>\n"
      ],
      "text/latex": [
       "A data.frame: 6 × 8\n",
       "\\begin{tabular}{r|llllllll}\n",
       "  & region & hovedint & ant & primary & suppressed & freqDec & isPublish & isInner\\\\\n",
       "  & <chr> & <chr> & <dbl> & <lgl> & <lgl> & <dbl> & <lgl> & <lgl>\\\\\n",
       "\\hline\n",
       "\t1 & Total & Total    & 596 & FALSE & FALSE & 596 & TRUE & FALSE\\\\\n",
       "\t2 & Total & annet    &  72 & FALSE & FALSE &  72 & TRUE & FALSE\\\\\n",
       "\t3 & Total & arbeid   &  52 & FALSE & FALSE &  52 & TRUE & FALSE\\\\\n",
       "\t4 & Total & soshjelp & 283 & FALSE & FALSE & 283 & TRUE & FALSE\\\\\n",
       "\t5 & Total & trygd    & 189 & FALSE & FALSE & 189 & TRUE & FALSE\\\\\n",
       "\t6 & A     & Total    & 113 & FALSE & FALSE & 113 & TRUE & FALSE\\\\\n",
       "\\end{tabular}\n"
      ],
      "text/markdown": [
       "\n",
       "A data.frame: 6 × 8\n",
       "\n",
       "| <!--/--> | region &lt;chr&gt; | hovedint &lt;chr&gt; | ant &lt;dbl&gt; | primary &lt;lgl&gt; | suppressed &lt;lgl&gt; | freqDec &lt;dbl&gt; | isPublish &lt;lgl&gt; | isInner &lt;lgl&gt; |\n",
       "|---|---|---|---|---|---|---|---|---|\n",
       "| 1 | Total | Total    | 596 | FALSE | FALSE | 596 | TRUE | FALSE |\n",
       "| 2 | Total | annet    |  72 | FALSE | FALSE |  72 | TRUE | FALSE |\n",
       "| 3 | Total | arbeid   |  52 | FALSE | FALSE |  52 | TRUE | FALSE |\n",
       "| 4 | Total | soshjelp | 283 | FALSE | FALSE | 283 | TRUE | FALSE |\n",
       "| 5 | Total | trygd    | 189 | FALSE | FALSE | 189 | TRUE | FALSE |\n",
       "| 6 | A     | Total    | 113 | FALSE | FALSE | 113 | TRUE | FALSE |\n",
       "\n"
      ],
      "text/plain": [
       "  region hovedint ant primary suppressed freqDec isPublish isInner\n",
       "1 Total  Total    596 FALSE   FALSE      596     TRUE      FALSE  \n",
       "2 Total  annet     72 FALSE   FALSE       72     TRUE      FALSE  \n",
       "3 Total  arbeid    52 FALSE   FALSE       52     TRUE      FALSE  \n",
       "4 Total  soshjelp 283 FALSE   FALSE      283     TRUE      FALSE  \n",
       "5 Total  trygd    189 FALSE   FALSE      189     TRUE      FALSE  \n",
       "6 A      Total    113 FALSE   FALSE      113     TRUE      FALSE  "
      ]
     },
     "metadata": {},
     "output_type": "display_data"
    }
   ],
   "source": [
    "library(GaussSuppression)\n",
    "z1 <- SSBtoolsData(\"z1\")\n",
    "dt <- GaussSuppressDec(z1, 1:2, 3)\n",
    "head(dt)"
   ]
  },
  {
   "cell_type": "code",
   "execution_count": 2,
   "id": "e66ac114-39c2-484e-8866-a02df6931fae",
   "metadata": {},
   "outputs": [
    {
     "data": {
      "text/html": [
       "<strong>$repos</strong> = <style>\n",
       ".dl-inline {width: auto; margin:0; padding: 0}\n",
       ".dl-inline>dt, .dl-inline>dd {float: none; width: auto; display: inline-block}\n",
       ".dl-inline>dt::after {content: \":\\0020\"; padding-right: .5ex}\n",
       ".dl-inline>dt:not(:first-of-type) {padding-left: .5ex}\n",
       "</style><dl class=dl-inline><dt>RSTUDIO</dt><dd>'https://packagemanager.rstudio.com/all/latest'</dd><dt>CRAN_UIB</dt><dd>'https://cran.uib.no'</dd></dl>\n"
      ],
      "text/latex": [
       "\\textbf{\\$repos} = \\begin{description*}\n",
       "\\item[RSTUDIO] 'https://packagemanager.rstudio.com/all/latest'\n",
       "\\item[CRAN\\textbackslash{}\\_UIB] 'https://cran.uib.no'\n",
       "\\end{description*}\n"
      ],
      "text/markdown": [
       "**$repos** = RSTUDIO\n",
       ":   'https://packagemanager.rstudio.com/all/latest'CRAN_UIB\n",
       ":   'https://cran.uib.no'\n",
       "\n"
      ],
      "text/plain": [
       "$repos\n",
       "                                        RSTUDIO \n",
       "\"https://packagemanager.rstudio.com/all/latest\" \n",
       "                                       CRAN_UIB \n",
       "                          \"https://cran.uib.no\" \n"
      ]
     },
     "metadata": {},
     "output_type": "display_data"
    }
   ],
   "source": [
    "# Check repo settings\n",
    "options(c(\"repos\"))"
   ]
  },
  {
   "cell_type": "code",
   "execution_count": null,
   "id": "52be9d9e-c1d6-4b4c-a48d-8afeaf612059",
   "metadata": {},
   "outputs": [],
   "source": []
  }
 ],
 "metadata": {
  "kernelspec": {
   "display_name": "SparkR (local)",
   "language": "R",
   "name": "ir"
  },
  "language_info": {
   "codemirror_mode": "r",
   "file_extension": ".r",
   "mimetype": "text/x-r-source",
   "name": "R",
   "pygments_lexer": "r",
   "version": "4.2.2"
  }
 },
 "nbformat": 4,
 "nbformat_minor": 5
}
