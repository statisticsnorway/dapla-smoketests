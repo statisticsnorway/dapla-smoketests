{
 "cells": [
  {
   "cell_type": "code",
   "execution_count": null,
   "id": "eb45a841-712f-4c99-99d7-adbfcc5b7dee",
   "metadata": {},
   "outputs": [],
   "source": [
    "# Use venv-pack to create an environment file to pass to the spark executors\n",
    "!venv-pack -p ../../.venv -o pyspark_venv.tar.gz"
   ]
  },
  {
   "cell_type": "code",
   "execution_count": null,
   "id": "e626726b-0c8d-4c4c-ae17-944d0a9390be",
   "metadata": {},
   "outputs": [],
   "source": [
    "import os\n",
    "import subprocess\n",
    "import faker\n",
    "\n",
    "import pandas as pd\n",
    "from pyspark.sql.functions import pandas_udf\n",
    "\n",
    "# Points to the virtualenv\n",
    "os.environ[\"PYSPARK_PYTHON\"] = \"./environment/bin/python\"\n",
    "\n",
    "# Add --archives to point to venv-packed environment\n",
    "conf = os.environ[\"PYSPARK_K8S_SUBMIT_ARGS\"].split(' ')\n",
    "last_index = conf.index('pyspark-shell')\n",
    "conf[last_index:last_index] = ['--archives', 'pyspark_venv.tar.gz#environment']\n",
    "os.environ[\"PYSPARK_SUBMIT_ARGS\"] = ' '.join(conf)"
   ]
  },
  {
   "cell_type": "code",
   "execution_count": null,
   "id": "adef3fa8-16d6-4230-b751-95c4b0a3d5d0",
   "metadata": {},
   "outputs": [],
   "source": [
    "conf[13] = 'spark.kubernetes.container.image=eu.gcr.io/prod-bip/ssb/dapla/dapla-spark-py:imagescan-merge-0f0baeb4e3f10dd262dd7d45143632e27a9417fa'\n",
    "os.environ[\"PYSPARK_SUBMIT_ARGS\"] = ' '.join(conf)"
   ]
  },
  {
   "cell_type": "code",
   "execution_count": null,
   "id": "2bc37183-84bc-4e13-b90f-3f5edf0f8e4f",
   "metadata": {},
   "outputs": [],
   "source": [
    "%run /usr/local/share/jupyter/kernels/pyspark_k8s/init.py"
   ]
  },
  {
   "cell_type": "code",
   "execution_count": null,
   "id": "2ef07ba3-24f2-4bac-9da0-4b3a3eb9530c",
   "metadata": {},
   "outputs": [],
   "source": [
    "if os.environ['CLUSTER_ID'] == \"staging-bip-app\":\n",
    "    bucket = 'ssb-staging-demo-stat-a-data-produkt'\n",
    "else:\n",
    "    bucket = 'ssb-prod-demo-stat-a-data-produkt'\n",
    "\n",
    "gcs_path = f\"gs://{bucket}/felles/smoke-tests/fruits\""
   ]
  },
  {
   "cell_type": "code",
   "execution_count": null,
   "id": "4c6a878b-637f-4bd7-8898-55f4ec47da2d",
   "metadata": {},
   "outputs": [],
   "source": [
    "@pandas_udf(\"string\")\n",
    "def name(s: pd.Series) -> pd.Series:\n",
    "    # This import will fail outside of virtual env\n",
    "    import faker\n",
    "    return s.str.upper()\n",
    "\n",
    "df = spark.read.parquet(gcs_path)\n",
    "df.withColumn('name', name(\"__index_level_0__\")).show()"
   ]
  },
  {
   "cell_type": "code",
   "execution_count": null,
   "id": "776c7599-5da7-488c-b80e-693de8201052",
   "metadata": {},
   "outputs": [],
   "source": [
    "import pyspark.pandas as ps\n",
    "ps.read_parquet(gcs_path, pandas_metadata=True)"
   ]
  },
  {
   "cell_type": "code",
   "execution_count": null,
   "id": "faafd9ff-ba2c-48db-955d-3f2f25012b21",
   "metadata": {},
   "outputs": [],
   "source": []
  }
 ],
 "metadata": {
  "language_info": {
   "codemirror_mode": {
    "name": "ipython"
   },
   "file_extension": ".py",
   "mimetype": "text/x-python",
   "name": "python",
   "nbconvert_exporter": "python"
  }
 },
 "nbformat": 4,
 "nbformat_minor": 5
}
