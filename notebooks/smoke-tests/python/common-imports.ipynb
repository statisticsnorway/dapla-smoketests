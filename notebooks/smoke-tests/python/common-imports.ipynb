{
 "cells": [
  {
   "cell_type": "code",
   "execution_count": null,
   "id": "0389f8b0-ff8c-4f90-9231-01a24c8fdbb5",
   "metadata": {},
   "outputs": [],
   "source": [
    "# Central imports (pandas as pd etc.)\n",
    "import os\n",
    "import pandas as pd\n",
    "import dapla as dp"
   ]
  },
  {
   "cell_type": "markdown",
   "id": "53045c5c-da40-40f1-b6c3-b617a9f5e979",
   "metadata": {},
   "source": [
    "### Tester dapla pakken"
   ]
  },
  {
   "cell_type": "code",
   "execution_count": null,
   "id": "932f1404-303a-4dcf-bddc-09efc4c85fe6",
   "metadata": {},
   "outputs": [],
   "source": []
  },
  {
   "cell_type": "code",
   "execution_count": null,
   "id": "37b76c57-f0f4-418a-92eb-8885c9d39afa",
   "metadata": {},
   "outputs": [],
   "source": []
  },
  {
   "cell_type": "code",
   "execution_count": null,
   "id": "d4637cb4-1e54-46dd-8cc0-6bfa52af3ed1",
   "metadata": {},
   "outputs": [],
   "source": []
  },
  {
   "cell_type": "code",
   "execution_count": null,
   "id": "653b7859-db6e-4d5f-ab11-5d5c031702c8",
   "metadata": {},
   "outputs": [],
   "source": []
  },
  {
   "cell_type": "code",
   "execution_count": null,
   "id": "053ae478-0ef2-480d-b1e4-3801ad802f05",
   "metadata": {},
   "outputs": [],
   "source": []
  },
  {
   "cell_type": "code",
   "execution_count": null,
   "id": "8e095175-c532-4ddb-b3b7-34e80d6d7fb8",
   "metadata": {},
   "outputs": [],
   "source": []
  }
 ],
 "metadata": {
  "kernelspec": {
   "display_name": "Python 3 (ipykernel)",
   "language": "python",
   "name": "python3"
  },
  "language_info": {
   "codemirror_mode": {
    "name": "ipython",
    "version": 3
   },
   "file_extension": ".py",
   "mimetype": "text/x-python",
   "name": "python",
   "nbconvert_exporter": "python",
   "pygments_lexer": "ipython3",
   "version": "3.10.6"
  }
 },
 "nbformat": 4,
 "nbformat_minor": 5
}
