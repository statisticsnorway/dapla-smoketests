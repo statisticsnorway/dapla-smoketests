{
 "cells": [
  {
   "cell_type": "code",
   "execution_count": 12,
   "id": "0389f8b0-ff8c-4f90-9231-01a24c8fdbb5",
   "metadata": {},
   "outputs": [],
   "source": [
    "# Central imports (pandas as pd etc.)\n",
    "import os\n",
    "import pandas as pd\n",
    "import dapla as dp"
   ]
  },
  {
   "cell_type": "markdown",
   "id": "53045c5c-da40-40f1-b6c3-b617a9f5e979",
   "metadata": {},
   "source": [
    "### Tester dapla pakken"
   ]
  },
  {
   "cell_type": "code",
   "execution_count": 17,
   "id": "653b7859-db6e-4d5f-ab11-5d5c031702c8",
   "metadata": {},
   "outputs": [],
   "source": [
    "response = dp.AuthClient.fetch_local_user()\n",
    "assert 'username' in response\n",
    "assert 'access_token' in response\n",
    "assert 'exchanged_tokens' in response\n",
    "assert 'google' in response['exchanged_tokens']"
   ]
  },
  {
   "cell_type": "code",
   "execution_count": 18,
   "id": "053ae478-0ef2-480d-b1e4-3801ad802f05",
   "metadata": {},
   "outputs": [],
   "source": []
  }
 ],
 "metadata": {
  "kernelspec": {
   "display_name": "dapla-smoketests",
   "language": "python",
   "name": "dapla-smoketests"
  },
  "language_info": {
   "codemirror_mode": {
    "name": "ipython",
    "version": 3
   },
   "file_extension": ".py",
   "mimetype": "text/x-python",
   "name": "python",
   "nbconvert_exporter": "python",
   "pygments_lexer": "ipython3",
   "version": "3.10.6"
  }
 },
 "nbformat": 4,
 "nbformat_minor": 5
}
