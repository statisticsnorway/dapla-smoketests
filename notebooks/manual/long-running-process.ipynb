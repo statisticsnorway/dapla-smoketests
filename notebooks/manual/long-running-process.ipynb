{
 "cells": [
  {
   "cell_type": "code",
   "execution_count": null,
   "id": "5f16c191-f186-4b49-9b9f-c756409bd735",
   "metadata": {},
   "outputs": [],
   "source": [
    "import logging\n",
    "import time\n",
    "from multiprocessing import Process\n",
    "\n",
    "# This logger will output to the k8s pod, and will be collected by Google Cloud Logging\n",
    "logger = logging.getLogger(\"IPKernelApp\")\n",
    "\n",
    "\n",
    "def run_loop(log):\n",
    "    try:\n",
    "        # Run for 14 hours\n",
    "        for x in range(0, 14):\n",
    "            time.sleep(3600)\n",
    "            print(f\"{x} hours has passed...\")\n",
    "            log.warning(f\"{x} hours has passed...\")\n",
    "    except Exception as e:\n",
    "        log.error(e)\n",
    "\n",
    "\n",
    "# Start a long running process\n",
    "p = Process(target=run_loop, args=(logger,))\n",
    "p.start()\n",
    "p.join()\n"
   ]
  },
  {
   "cell_type": "code",
   "execution_count": null,
   "id": "9b6b91da-347c-46b7-a3b4-b666317d17ee",
   "metadata": {},
   "outputs": [],
   "source": []
  }
 ],
 "metadata": {
  "language_info": {
   "codemirror_mode": {
    "name": "ipython"
   },
   "file_extension": ".py",
   "mimetype": "text/x-python",
   "name": "python",
   "nbconvert_exporter": "python"
  }
 },
 "nbformat": 4,
 "nbformat_minor": 5
}
